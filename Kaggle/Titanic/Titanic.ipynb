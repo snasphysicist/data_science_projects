{
 "cells": [
  {
   "cell_type": "code",
   "execution_count": 109,
   "metadata": {},
   "outputs": [],
   "source": [
    "import matplotlib.pyplot as plt\n",
    "%matplotlib inline\n",
    "import numpy as np\n",
    "import pandas as pd\n",
    "from sklearn.ensemble import RandomForestClassifier\n",
    "from sklearn.linear_model import LogisticRegression\n",
    "from sklearn.preprocessing import StandardScaler\n",
    "from sklearn.tree import DecisionTreeClassifier"
   ]
  },
  {
   "cell_type": "code",
   "execution_count": 110,
   "metadata": {},
   "outputs": [],
   "source": [
    "# Get absolute file paths for all files in current directory\n",
    "import os\n",
    "files = []\n",
    "for dirname, _, filenames in os.walk('.'):\n",
    "    for filename in filenames:\n",
    "        files.append(os.path.join(dirname, filename))"
   ]
  },
  {
   "cell_type": "code",
   "execution_count": 111,
   "metadata": {},
   "outputs": [],
   "source": [
    "# Select correct csv files, import the data\n",
    "# Training csv has 'train' in the filename\n",
    "train_filename = list([x for x in files if \"train\" in x])[0]\n",
    "# Testing csv has 'test' in the filename\n",
    "test_filename = list([x for x in files if \"test\" in x])[0]\n",
    "train = pd.read_csv(train_filename)\n",
    "test = pd.read_csv(test_filename)"
   ]
  },
  {
   "cell_type": "code",
   "execution_count": 112,
   "metadata": {},
   "outputs": [
    {
     "name": "stdout",
     "output_type": "stream",
     "text": [
      "   PassengerId  Survived  Pclass  \\\n",
      "0            1         0       3   \n",
      "1            2         1       1   \n",
      "2            3         1       3   \n",
      "3            4         1       1   \n",
      "4            5         0       3   \n",
      "\n",
      "                                                Name     Sex   Age  SibSp  \\\n",
      "0                            Braund, Mr. Owen Harris    male  22.0      1   \n",
      "1  Cumings, Mrs. John Bradley (Florence Briggs Th...  female  38.0      1   \n",
      "2                             Heikkinen, Miss. Laina  female  26.0      0   \n",
      "3       Futrelle, Mrs. Jacques Heath (Lily May Peel)  female  35.0      1   \n",
      "4                           Allen, Mr. William Henry    male  35.0      0   \n",
      "\n",
      "   Parch            Ticket     Fare Cabin Embarked  \n",
      "0      0         A/5 21171   7.2500   NaN        S  \n",
      "1      0          PC 17599  71.2833   C85        C  \n",
      "2      0  STON/O2. 3101282   7.9250   NaN        S  \n",
      "3      0            113803  53.1000  C123        S  \n",
      "4      0            373450   8.0500   NaN        S  \n"
     ]
    }
   ],
   "source": [
    "# Inspect columns, data formats, see what might be useful\n",
    "print(train.head())\n",
    "# We wouldn't expect name, ticket number to be useful for prediction\n",
    "# The precise cabin number would not be useful for prediction\n",
    "# but maybe whether or not the passenger had a cabin?"
   ]
  },
  {
   "cell_type": "code",
   "execution_count": 113,
   "metadata": {},
   "outputs": [],
   "source": [
    "# A function that fills NaNs in column with a randomly chosen number\n",
    "def column_fill_nan_random(dataframe, column_name):\n",
    "    filler = np.random.randint(-10000, 10000)\n",
    "    # Choose a new number so long as the chosen number already exists in the column\n",
    "    while filler in dataframe[column_name].unique():\n",
    "        filler = np.random.randint(-10000, 10000)\n",
    "    dataframe[column_name] = dataframe[column_name].fillna(filler)\n",
    "    return dataframe"
   ]
  },
  {
   "cell_type": "code",
   "execution_count": 114,
   "metadata": {},
   "outputs": [],
   "source": [
    "# Conversion of text features to numerical features\n",
    "def column_text_to_numerical_feature(dataframe, column_name):\n",
    "    # Clear NaNs - here we don't care about the\n",
    "    # precise value of the NaNs that we're replacing\n",
    "    # we just want them to have the same numerical value\n",
    "    # so that that next step will work\n",
    "    dataframe = column_fill_nan_random(dataframe, column_name)\n",
    "    # Find all unique values in the column\n",
    "    unique_values = dataframe[column_name].unique()\n",
    "    # For each value in the column, replace it by\n",
    "    # the index of the value in the list of unique values\n",
    "    # Thus all quantities in the column are replaced\n",
    "    # by integers, such that two rows with the\n",
    "    # same value will now have the same integer value\n",
    "    dataframe[column_name] = dataframe[column_name].map(lambda s: list(unique_values).index(s))\n",
    "    return dataframe\n",
    " \n",
    "    \n",
    "# Convert sex and embarkation point to integer labels\n",
    "# Required for some machine learning algorithms\n",
    "def text_to_numerical_features(dataframe):\n",
    "    dataframe = column_text_to_numerical_feature(dataframe, \"Sex\")\n",
    "    dataframe = column_text_to_numerical_feature(dataframe, \"Embarked\")\n",
    "    return dataframe\n",
    "    \n",
    "\n",
    "# Do feature -> integer conversion on both training & testing data\n",
    "train = text_to_numerical_features(train)\n",
    "test = text_to_numerical_features(test)\n"
   ]
  },
  {
   "cell_type": "code",
   "execution_count": 115,
   "metadata": {},
   "outputs": [],
   "source": [
    "# This function replaces NaNs in a particular column in\n",
    "# a dataframe with the mean value of the !NaN rows\n",
    "def column_replace_nans_with_mean(dataframe, column_name):\n",
    "    dataframe[column_name] = dataframe[column_name].fillna(\n",
    "        dataframe[column_name].mean()\n",
    "    )\n",
    "    return dataframe\n",
    "\n",
    "\n",
    "# These columns in our dataframe will\n",
    "# have their NaN values replaced by means\n",
    "mean_replace_nan_columns = [\n",
    "    \"Age\",\n",
    "    \"Fare\"\n",
    "]\n",
    "for column_name in mean_replace_nan_columns:\n",
    "    train = column_replace_nans_with_mean(train, column_name)\n",
    "    test = column_replace_nans_with_mean(test, column_name)"
   ]
  },
  {
   "cell_type": "code",
   "execution_count": 116,
   "metadata": {},
   "outputs": [],
   "source": [
    "# Select features to use in model\n",
    "feature_names = [\n",
    "    \"Age\",\n",
    "    \"Pclass\",\n",
    "    \"SibSp\",\n",
    "    \"Parch\",\n",
    "    \"Fare\",\n",
    "    \"Embarked\"\n",
    "]\n",
    "train_on = train[feature_names]\n",
    "test_on = test[feature_names]\n",
    "# Also get labels\n",
    "train_labels = train[\"Survived\"]"
   ]
  },
  {
   "cell_type": "code",
   "execution_count": 117,
   "metadata": {},
   "outputs": [],
   "source": [
    "# First try a logistic regression approach\n",
    "# Requires scaled features\n",
    "scaler = StandardScaler()\n",
    "scaler.fit(train_on)\n",
    "train_on_scaled = scaler.transform(train_on)\n",
    "test_on_scaled = scaler.transform(test_on)"
   ]
  },
  {
   "cell_type": "code",
   "execution_count": 127,
   "metadata": {},
   "outputs": [
    {
     "name": "stdout",
     "output_type": "stream",
     "text": [
      "Logistic regression approach, training accuracy 0.719\n"
     ]
    },
    {
     "name": "stderr",
     "output_type": "stream",
     "text": [
      "/home/scott/.anaconda3/lib/python3.7/site-packages/sklearn/linear_model/logistic.py:432: FutureWarning: Default solver will be changed to 'lbfgs' in 0.22. Specify a solver to silence this warning.\n",
      "  FutureWarning)\n"
     ]
    }
   ],
   "source": [
    "model = LogisticRegression()\n",
    "model.fit(train_on_scaled, train_labels)\n",
    "score = model.score(train_on_scaled, train_labels)\n",
    "print(\"Logistic regression approach, training accuracy {:.3f}\".format(score))"
   ]
  },
  {
   "cell_type": "code",
   "execution_count": 129,
   "metadata": {},
   "outputs": [
    {
     "data": {
      "image/png": "[encoded data removed]",
      "text/plain": [
       "<Figure size 432x288 with 1 Axes>"
      ]
     },
     "metadata": {
      "needs_background": "light"
     },
     "output_type": "display_data"
    },
    {
     "name": "stdout",
     "output_type": "stream",
     "text": [
      "Best training accuracy 0.957 at maximum depth 25\n"
     ]
    }
   ],
   "source": [
    "# Try with a single decision tree\n",
    "maximum_depths = range(1, 31)\n",
    "scores = []\n",
    "for maximum_depth in maximum_depths:\n",
    "    classifier = DecisionTreeClassifier(\n",
    "        max_depth=maximum_depth\n",
    "    )\n",
    "    classifier.fit(train_on, train_labels)\n",
    "    scores.append(\n",
    "        classifier.score(train_on, train_labels)\n",
    "    )\n",
    "plt.plot(maximum_depths, scores)\n",
    "plt.xlabel(\"Maximum Depth\")\n",
    "plt.ylabel(\"Training Accuracy\")\n",
    "plt.show()\n",
    "print(\n",
    "    \"Best training accuracy {:.3f}\".format(scores[24]), \n",
    "    \"at maximum depth\", \n",
    "    maximum_depths[24]\n",
    ")"
   ]
  },
  {
   "cell_type": "code",
   "execution_count": null,
   "metadata": {},
   "outputs": [],
   "source": []
  }
 ],
 "metadata": {
  "kernelspec": {
   "display_name": "Python 3",
   "language": "python",
   "name": "python3"
  },
  "language_info": {
   "codemirror_mode": {
    "name": "ipython",
    "version": 3
   },
   "file_extension": ".py",
   "mimetype": "text/x-python",
   "name": "python",
   "nbconvert_exporter": "python",
   "pygments_lexer": "ipython3",
   "version": "3.7.4"
  }
 },
 "nbformat": 4,
 "nbformat_minor": 2
}
